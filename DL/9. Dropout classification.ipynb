{
 "cells": [
  {
   "cell_type": "code",
   "execution_count": 1,
   "id": "723a86ba",
   "metadata": {},
   "outputs": [
    {
     "name": "stdout",
     "output_type": "stream",
     "text": [
      "WARNING:tensorflow:Compiled the loaded model, but the compiled metrics have yet to be built. `model.compile_metrics` will be empty until you train or evaluate the model.\n",
      "Epoch 1/20\n",
      "469/469 [==============================] - 5s 10ms/step - loss: 0.2488 - accuracy: 0.9264 - val_loss: 0.1104 - val_accuracy: 0.9652\n",
      "Epoch 2/20\n",
      "469/469 [==============================] - 5s 11ms/step - loss: 0.1028 - accuracy: 0.9679 - val_loss: 0.0829 - val_accuracy: 0.9742\n",
      "Epoch 3/20\n",
      "469/469 [==============================] - 5s 11ms/step - loss: 0.0723 - accuracy: 0.9772 - val_loss: 0.0690 - val_accuracy: 0.9779\n",
      "Epoch 4/20\n",
      "469/469 [==============================] - 5s 11ms/step - loss: 0.0572 - accuracy: 0.9813 - val_loss: 0.0710 - val_accuracy: 0.9782\n",
      "Epoch 5/20\n",
      "469/469 [==============================] - 6s 12ms/step - loss: 0.0471 - accuracy: 0.9844 - val_loss: 0.0721 - val_accuracy: 0.9794\n",
      "Epoch 6/20\n",
      "469/469 [==============================] - 5s 11ms/step - loss: 0.0399 - accuracy: 0.9871 - val_loss: 0.0793 - val_accuracy: 0.9774\n",
      "Test loss: 0.07934626936912537\n",
      "Test accuracy: 0.977400004863739\n"
     ]
    }
   ],
   "source": [
    "import numpy as np\n",
    "import keras\n",
    "from keras.models import load_model, Sequential\n",
    "from keras.datasets import mnist\n",
    "from keras.layers import Dense, Dropout\n",
    "from keras.optimizers import RMSprop\n",
    "from keras.callbacks import EarlyStopping\n",
    "import seaborn as sns\n",
    "import matplotlib.pyplot as plt\n",
    "from scipy import stats\n",
    "(x_train ,y_train),(x_test ,y_test) =mnist.load_data()\n",
    "x_train = x_train.reshape(60000,784)\n",
    "x_test = x_test.reshape(10000,784)\n",
    "x_train = x_train.astype('float32')\n",
    "x_test = x_test.astype('float32')\n",
    "y_train = y_train.astype('float32')\n",
    "y_test = y_test.astype('float32')\n",
    "x_train/= 255\n",
    "x_test/= 255\n",
    "num_classes=10\n",
    "y_train = keras.utils.to_categorical(y_train, num_classes)\n",
    "y_test =keras.utils.to_categorical(y_test,num_classes)\n",
    "ncols = x_train.shape[1]\n",
    "model2=Sequential()\n",
    "model2.add(Dense(512,activation='relu',input_shape=(ncols,)))\n",
    "model2.add(Dropout(0.2))\n",
    "model2.add(Dense(512,activation='relu'))\n",
    "model2.add(Dropout(0.2))\n",
    "model2.add(Dense(num_classes,activation='softmax'))\n",
    "model2.save('model_2.h5')\n",
    "model2.compile(loss='categorical_crossentropy',\n",
    "              optimizer='adam',\n",
    "              metrics=['accuracy'])\n",
    "score2=model2.evaluate(x_test,y_test,verbose=0)\n",
    "early_stopping_monitor = EarlyStopping(patience=3)\n",
    "batch_size=128\n",
    "fit2=model2.fit(x_train,y_train,\n",
    "               batch_size=batch_size,\n",
    "               epochs=20,\n",
    "               callbacks=[early_stopping_monitor],\n",
    "               verbose=1,\n",
    "               validation_data=(x_test,y_test))\n",
    "score2=model2.evaluate(x_test,y_test,verbose=0)\n",
    "print('Test loss:',score2[0])\n",
    "print('Test accuracy:',score2[1])"
   ]
  },
  {
   "cell_type": "code",
   "execution_count": null,
   "id": "240ac6ee",
   "metadata": {},
   "outputs": [],
   "source": []
  }
 ],
 "metadata": {
  "kernelspec": {
   "display_name": "Python 3 (ipykernel)",
   "language": "python",
   "name": "python3"
  },
  "language_info": {
   "codemirror_mode": {
    "name": "ipython",
    "version": 3
   },
   "file_extension": ".py",
   "mimetype": "text/x-python",
   "name": "python",
   "nbconvert_exporter": "python",
   "pygments_lexer": "ipython3",
   "version": "3.10.1"
  }
 },
 "nbformat": 4,
 "nbformat_minor": 5
}

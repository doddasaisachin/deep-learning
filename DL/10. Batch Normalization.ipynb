{
 "cells": [
  {
   "cell_type": "code",
   "execution_count": 1,
   "id": "7b56a079",
   "metadata": {},
   "outputs": [
    {
     "name": "stdout",
     "output_type": "stream",
     "text": [
      "batch_normalization/gamma:0\n",
      "batch_normalization/beta:0\n",
      "batch_normalization/moving_mean:0\n",
      "batch_normalization/moving_variance:0\n"
     ]
    },
    {
     "name": "stderr",
     "output_type": "stream",
     "text": [
      "C:\\Users\\online\\AppData\\Local\\Programs\\Python\\Python310\\lib\\site-packages\\keras\\optimizers\\optimizer_v2\\gradient_descent.py:114: UserWarning: The `lr` argument is deprecated, use `learning_rate` instead.\n",
      "  super().__init__(name, **kwargs)\n"
     ]
    },
    {
     "name": "stdout",
     "output_type": "stream",
     "text": [
      "Epoch 1/10\n",
      "1875/1875 [==============================] - 6s 3ms/step - loss: 0.4627 - accuracy: 0.8346 - val_loss: 0.3177 - val_accuracy: 0.8868\n",
      "Epoch 2/10\n",
      "1875/1875 [==============================] - 5s 3ms/step - loss: 0.3504 - accuracy: 0.8713 - val_loss: 0.3057 - val_accuracy: 0.8816\n",
      "Epoch 3/10\n",
      "1875/1875 [==============================] - 6s 3ms/step - loss: 0.3143 - accuracy: 0.8835 - val_loss: 0.3110 - val_accuracy: 0.8842\n",
      "Epoch 4/10\n",
      "1875/1875 [==============================] - 5s 3ms/step - loss: 0.2865 - accuracy: 0.8938 - val_loss: 0.2472 - val_accuracy: 0.9056\n",
      "Epoch 5/10\n",
      "1875/1875 [==============================] - 7s 4ms/step - loss: 0.2682 - accuracy: 0.8991 - val_loss: 0.2289 - val_accuracy: 0.9088\n",
      "Epoch 6/10\n",
      "1875/1875 [==============================] - 9s 5ms/step - loss: 0.2504 - accuracy: 0.9061 - val_loss: 0.2085 - val_accuracy: 0.9256\n",
      "Epoch 7/10\n",
      "1875/1875 [==============================] - 15s 8ms/step - loss: 0.2383 - accuracy: 0.9109 - val_loss: 0.2112 - val_accuracy: 0.9190\n",
      "Epoch 8/10\n",
      "1875/1875 [==============================] - 16s 9ms/step - loss: 0.2262 - accuracy: 0.9154 - val_loss: 0.1978 - val_accuracy: 0.9242\n",
      "Epoch 9/10\n",
      "1875/1875 [==============================] - 8s 4ms/step - loss: 0.2135 - accuracy: 0.9196 - val_loss: 0.1561 - val_accuracy: 0.9406\n",
      "Epoch 10/10\n",
      "1875/1875 [==============================] - 5s 2ms/step - loss: 0.2048 - accuracy: 0.9219 - val_loss: 0.1640 - val_accuracy: 0.9362\n",
      "313/313 [==============================] - 0s 1ms/step - loss: 0.3400 - accuracy: 0.8827\n"
     ]
    },
    {
     "data": {
      "text/plain": [
       "[0.3400033116340637, 0.8827000260353088]"
      ]
     },
     "execution_count": 1,
     "metadata": {},
     "output_type": "execute_result"
    }
   ],
   "source": [
    "import tensorflow as tf \n",
    "from tensorflow import keras\n",
    "(train_images,train_labels),(test_images,test_labels)=keras.datasets.fashion_mnist.load_data()\n",
    "train_images = train_images/255\n",
    "test_images = test_images/255 \n",
    "validation_images = train_images[:5000]\n",
    "validation_labels = train_labels[:5000]\n",
    "model = keras.models. Sequential([\n",
    "keras.layers.Flatten (input_shape=[28,28]),\n",
    "keras.layers.Dense (300, use_bias=False),\n",
    "keras.layers.BatchNormalization(),\n",
    "keras.layers.Activation (keras.activations.relu),\n",
    "keras.layers.Dense (200, use_bias=False), keras.layers.BatchNormalization(),\n",
    "keras.layers.Activation (keras.activations.relu),\n",
    "keras.layers.Dense(100, use_bias=False),\n",
    "keras.layers.BatchNormalization(),\n",
    "keras.layers.Activation (keras.activations.relu), \n",
    "keras.layers.Dense (10, activation=keras.activations.softmax)\n",
    "])\n",
    "model.layers[2].variables\n",
    "for variable in model.layers[2].variables: print (variable.name)\n",
    "sgd = tf.keras.optimizers. legacy.SGD (lr=0.01, decay=1e-6, momentum=0.9, nesterov=True) \n",
    "model.compile(loss=\"sparse_categorical_crossentropy\", optimizer=sgd, metrics=[\"accuracy\"])\n",
    "model.fit(train_images, train_labels, epochs=10, validation_data=(validation_images, validation_labels))\n",
    "model.evaluate(test_images, test_labels)"
   ]
  },
  {
   "cell_type": "code",
   "execution_count": null,
   "id": "33d3bfbe",
   "metadata": {},
   "outputs": [],
   "source": []
  }
 ],
 "metadata": {
  "kernelspec": {
   "display_name": "Python 3 (ipykernel)",
   "language": "python",
   "name": "python3"
  },
  "language_info": {
   "codemirror_mode": {
    "name": "ipython",
    "version": 3
   },
   "file_extension": ".py",
   "mimetype": "text/x-python",
   "name": "python",
   "nbconvert_exporter": "python",
   "pygments_lexer": "ipython3",
   "version": "3.10.1"
  }
 },
 "nbformat": 4,
 "nbformat_minor": 5
}
